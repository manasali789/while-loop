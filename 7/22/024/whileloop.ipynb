{
 "cells": [
  {
   "cell_type": "markdown",
   "metadata": {},
   "source": [
    "foor loop"
   ]
  },
  {
   "cell_type": "code",
   "execution_count": 9,
   "metadata": {},
   "outputs": [
    {
     "name": "stdout",
     "output_type": "stream",
     "text": [
      "1\n",
      "4\n",
      "7\n",
      "10\n",
      "13\n"
     ]
    }
   ],
   "source": [
    "for x in range(1,15,3):\n",
    "    print(x)"
   ]
  },
  {
   "cell_type": "markdown",
   "metadata": {},
   "source": [
    "(while Loop)"
   ]
  },
  {
   "cell_type": "code",
   "execution_count": 10,
   "metadata": {},
   "outputs": [
    {
     "name": "stdout",
     "output_type": "stream",
     "text": [
      "5\n",
      "4\n",
      "3\n",
      "2\n",
      "1\n",
      "Liftoff!\n"
     ]
    }
   ],
   "source": [
    "# Simple countdown from 5 to 1\n",
    "count = 5\n",
    "while count > 0:\n",
    "    print(count)\n",
    "    count -= 1\n",
    "    # print(count)\n",
    "print(\"Liftoff!\")"
   ]
  },
  {
   "cell_type": "code",
   "execution_count": 12,
   "metadata": {},
   "outputs": [
    {
     "name": "stdout",
     "output_type": "stream",
     "text": [
      "Sum of numbers from 1 to 10 is: 1275\n"
     ]
    }
   ],
   "source": [
    "num = 1\n",
    "sum = 0\n",
    "while num <= 50:\n",
    "    sum += num\n",
    "    num += 1\n",
    "print(\"Sum of numbers from 1 to 10 is:\", sum)\n"
   ]
  },
  {
   "cell_type": "code",
   "execution_count": 21,
   "metadata": {},
   "outputs": [
    {
     "name": "stdout",
     "output_type": "stream",
     "text": [
      "Sum of numbers from 1 to 50 is: 1275\n"
     ]
    }
   ],
   "source": [
    "num = 1\n",
    "sum = 0\n",
    "while num <= 50:\n",
    "    sum = sum + num\n",
    "    num =num+1\n",
    "print(\"Sum of numbers from 1 to 50 is:\",sum)"
   ]
  },
  {
   "cell_type": "markdown",
   "metadata": {},
   "source": []
  },
  {
   "cell_type": "code",
   "execution_count": 30,
   "metadata": {},
   "outputs": [
    {
     "name": "stdout",
     "output_type": "stream",
     "text": [
      " Sum of numbers from 1 to 3 is : 6\n"
     ]
    }
   ],
   "source": [
    "num = 1\n",
    "sum = 0\n",
    "range =3\n",
    "while num <= range:\n",
    "    sum = sum + num\n",
    "    num =num+1\n",
    "print(f\" Sum of numbers from 1 to {range} is :\",sum)"
   ]
  },
  {
   "cell_type": "markdown",
   "metadata": {},
   "source": [
    "# Prompt the user to enter a number until they enter a negative number"
   ]
  },
  {
   "cell_type": "code",
   "execution_count": null,
   "metadata": {},
   "outputs": [],
   "source": [
    "count=0\n",
    "while count >=0:\n",
    "    num=int(input(\"enter a number,(negative num to stop)\"))\n",
    "    if num >=0:\n",
    "        print(\"you entered number\", num)\n",
    "print(\"you enterd a negative number,loop is closed\" )        "
   ]
  },
  {
   "cell_type": "markdown",
   "metadata": {},
   "source": [
    "\n",
    "Sure! Here's a similar program-related question for you to practice:\n",
    "\n",
    "Question:\n",
    "\n",
    "Write a program that continuously asks the user to input words. The program should print each word entered, but if the user inputs the word \"stop\", the program should terminate and print \"Program terminated.\""
   ]
  },
  {
   "cell_type": "code",
   "execution_count": 16,
   "metadata": {},
   "outputs": [
    {
     "name": "stdout",
     "output_type": "stream",
     "text": [
      "assalam o alikum\n",
      "how are you!\n",
      "\n",
      "i am fine\\\n",
      "stop!\n",
      "sorry! loop is ended\n"
     ]
    }
   ],
   "source": [
    "message=\"\"\n",
    "while message !=\"stop\":\n",
    "    message=input(\"enter your message:(message will be stop to word stop.)\")\n",
    "    if message !=\"stop\":\n",
    "        print(message)\n",
    "    # else:\n",
    "    \n",
    "print(\"sorry! loop is ended\")"
   ]
  },
  {
   "cell_type": "markdown",
   "metadata": {},
   "source": [
    "1. Sum of Input Numbers\n",
    "Write a program that keeps asking the user to enter numbers until they type \"stop\". The program should then print the sum of all entered numbers.1. Sum of ."
   ]
  },
  {
   "cell_type": "code",
   "execution_count": 12,
   "metadata": {},
   "outputs": [
    {
     "name": "stdout",
     "output_type": "stream",
     "text": [
      "the total sum of number  30\n"
     ]
    }
   ],
   "source": [
    "total_sum=0\n",
    "\n",
    "message=\"\"\n",
    "while message !=\"stop\":\n",
    "    message=(input(\"enter a number:(program will be stop to word stop.)\"))\n",
    "    if message !=\"stop\":\n",
    "        total_sum+=int(message)\n",
    "        # message +=(message) \n",
    "print(f\"the total sum of number  {total_sum}\")"
   ]
  },
  {
   "cell_type": "code",
   "execution_count": 7,
   "metadata": {},
   "outputs": [
    {
     "name": "stdout",
     "output_type": "stream",
     "text": [
      "The total sum is: 401\n"
     ]
    }
   ],
   "source": [
    "total = 0\n",
    "message = \"\"\n",
    "while message != \"stop\":\n",
    "    message = input(\"Enter a number (or type 'stop' to finish): \")\n",
    "    if message != \"stop\":\n",
    "        total += int(message)\n",
    "print(f\"The total sum is: {total}\")\n"
   ]
  },
  {
   "cell_type": "markdown",
   "metadata": {},
   "source": [
    "Write a program that keeps asking the user to enter words until they type \"stop\". The program should then print the number of words entered."
   ]
  },
  {
   "cell_type": "code",
   "execution_count": 13,
   "metadata": {},
   "outputs": [
    {
     "name": "stdout",
     "output_type": "stream",
     "text": [
      " total number of the words :2.\n"
     ]
    }
   ],
   "source": [
    "total=0\n",
    "message=\"\"\n",
    "while message!=\"stop\":\n",
    "    message=input(\"enter your message:(message will be stop to word stop)\")\n",
    "    if message!=\"stop\":\n",
    "        total+=1\n",
    "print(f\" total number of the words :{total}.\")        "
   ]
  },
  {
   "cell_type": "code",
   "execution_count": 9,
   "metadata": {},
   "outputs": [
    {
     "name": "stdout",
     "output_type": "stream",
     "text": [
      "Total number of words entered: 3\n"
     ]
    }
   ],
   "source": [
    "count = 0\n",
    "message = \"\"\n",
    "while message != \"stop\":\n",
    "    message = input(\"Enter a word (or type 'stop' to finish): \")\n",
    "    if message != \"stop\":\n",
    "        count += 1\n",
    "print(f\"Total number of words entered: {count}\")\n"
   ]
  },
  {
   "cell_type": "markdown",
   "metadata": {},
   "source": [
    "Write a program that collects names until the user types \"stop\". After stopping, the program should print all the collected names."
   ]
  },
  {
   "cell_type": "code",
   "execution_count": null,
   "metadata": {},
   "outputs": [],
   "source": [
    " "
   ]
  }
 ],
 "metadata": {
  "kernelspec": {
   "display_name": "Python 3",
   "language": "python",
   "name": "python3"
  },
  "language_info": {
   "codemirror_mode": {
    "name": "ipython",
    "version": 3
   },
   "file_extension": ".py",
   "mimetype": "text/x-python",
   "name": "python",
   "nbconvert_exporter": "python",
   "pygments_lexer": "ipython3",
   "version": "3.12.3"
  }
 },
 "nbformat": 4,
 "nbformat_minor": 2
}
